{
  "nbformat": 4,
  "nbformat_minor": 0,
  "metadata": {
    "colab": {
      "provenance": [],
      "gpuType": "T4",
      "authorship_tag": "ABX9TyMjk/DUV4LFYf/fXlhyISbe",
      "include_colab_link": true
    },
    "kernelspec": {
      "name": "python3",
      "display_name": "Python 3"
    },
    "language_info": {
      "name": "python"
    },
    "accelerator": "GPU",
    "widgets": {
      "application/vnd.jupyter.widget-state+json": {
        "84e42eb3e81f4f34aa848a5158fc24a5": {
          "model_module": "@jupyter-widgets/controls",
          "model_name": "HBoxModel",
          "model_module_version": "1.5.0",
          "state": {
            "_dom_classes": [],
            "_model_module": "@jupyter-widgets/controls",
            "_model_module_version": "1.5.0",
            "_model_name": "HBoxModel",
            "_view_count": null,
            "_view_module": "@jupyter-widgets/controls",
            "_view_module_version": "1.5.0",
            "_view_name": "HBoxView",
            "box_style": "",
            "children": [
              "IPY_MODEL_f6d6ac92a48542d0b4ac293d70bbc5fc",
              "IPY_MODEL_0f9bd7f1004440359147db8de25e3966",
              "IPY_MODEL_b9815e5eef7944fe906df633e9b5330e"
            ],
            "layout": "IPY_MODEL_6a80e69010574c0fa9334a22e3598fb9"
          }
        },
        "f6d6ac92a48542d0b4ac293d70bbc5fc": {
          "model_module": "@jupyter-widgets/controls",
          "model_name": "HTMLModel",
          "model_module_version": "1.5.0",
          "state": {
            "_dom_classes": [],
            "_model_module": "@jupyter-widgets/controls",
            "_model_module_version": "1.5.0",
            "_model_name": "HTMLModel",
            "_view_count": null,
            "_view_module": "@jupyter-widgets/controls",
            "_view_module_version": "1.5.0",
            "_view_name": "HTMLView",
            "description": "",
            "description_tooltip": null,
            "layout": "IPY_MODEL_a175883e841c42c78b562c1089c9cf84",
            "placeholder": "​",
            "style": "IPY_MODEL_4aa14827f55b4ae5b9b7ebffc7ce5a57",
            "value": "100%"
          }
        },
        "0f9bd7f1004440359147db8de25e3966": {
          "model_module": "@jupyter-widgets/controls",
          "model_name": "FloatProgressModel",
          "model_module_version": "1.5.0",
          "state": {
            "_dom_classes": [],
            "_model_module": "@jupyter-widgets/controls",
            "_model_module_version": "1.5.0",
            "_model_name": "FloatProgressModel",
            "_view_count": null,
            "_view_module": "@jupyter-widgets/controls",
            "_view_module_version": "1.5.0",
            "_view_name": "ProgressView",
            "bar_style": "success",
            "description": "",
            "description_tooltip": null,
            "layout": "IPY_MODEL_4e9946184ebf480e807cf52d4e950b9a",
            "max": 10,
            "min": 0,
            "orientation": "horizontal",
            "style": "IPY_MODEL_360e6154a0d547cba8f35d8a5860d237",
            "value": 10
          }
        },
        "b9815e5eef7944fe906df633e9b5330e": {
          "model_module": "@jupyter-widgets/controls",
          "model_name": "HTMLModel",
          "model_module_version": "1.5.0",
          "state": {
            "_dom_classes": [],
            "_model_module": "@jupyter-widgets/controls",
            "_model_module_version": "1.5.0",
            "_model_name": "HTMLModel",
            "_view_count": null,
            "_view_module": "@jupyter-widgets/controls",
            "_view_module_version": "1.5.0",
            "_view_name": "HTMLView",
            "description": "",
            "description_tooltip": null,
            "layout": "IPY_MODEL_afc01cf95dfd4adfb59f611a7c3861b5",
            "placeholder": "​",
            "style": "IPY_MODEL_a727e1564294448da50ba7c40a3cfb32",
            "value": " 10/10 [00:48&lt;00:00,  4.49s/it]"
          }
        },
        "6a80e69010574c0fa9334a22e3598fb9": {
          "model_module": "@jupyter-widgets/base",
          "model_name": "LayoutModel",
          "model_module_version": "1.2.0",
          "state": {
            "_model_module": "@jupyter-widgets/base",
            "_model_module_version": "1.2.0",
            "_model_name": "LayoutModel",
            "_view_count": null,
            "_view_module": "@jupyter-widgets/base",
            "_view_module_version": "1.2.0",
            "_view_name": "LayoutView",
            "align_content": null,
            "align_items": null,
            "align_self": null,
            "border": null,
            "bottom": null,
            "display": null,
            "flex": null,
            "flex_flow": null,
            "grid_area": null,
            "grid_auto_columns": null,
            "grid_auto_flow": null,
            "grid_auto_rows": null,
            "grid_column": null,
            "grid_gap": null,
            "grid_row": null,
            "grid_template_areas": null,
            "grid_template_columns": null,
            "grid_template_rows": null,
            "height": null,
            "justify_content": null,
            "justify_items": null,
            "left": null,
            "margin": null,
            "max_height": null,
            "max_width": null,
            "min_height": null,
            "min_width": null,
            "object_fit": null,
            "object_position": null,
            "order": null,
            "overflow": null,
            "overflow_x": null,
            "overflow_y": null,
            "padding": null,
            "right": null,
            "top": null,
            "visibility": null,
            "width": null
          }
        },
        "a175883e841c42c78b562c1089c9cf84": {
          "model_module": "@jupyter-widgets/base",
          "model_name": "LayoutModel",
          "model_module_version": "1.2.0",
          "state": {
            "_model_module": "@jupyter-widgets/base",
            "_model_module_version": "1.2.0",
            "_model_name": "LayoutModel",
            "_view_count": null,
            "_view_module": "@jupyter-widgets/base",
            "_view_module_version": "1.2.0",
            "_view_name": "LayoutView",
            "align_content": null,
            "align_items": null,
            "align_self": null,
            "border": null,
            "bottom": null,
            "display": null,
            "flex": null,
            "flex_flow": null,
            "grid_area": null,
            "grid_auto_columns": null,
            "grid_auto_flow": null,
            "grid_auto_rows": null,
            "grid_column": null,
            "grid_gap": null,
            "grid_row": null,
            "grid_template_areas": null,
            "grid_template_columns": null,
            "grid_template_rows": null,
            "height": null,
            "justify_content": null,
            "justify_items": null,
            "left": null,
            "margin": null,
            "max_height": null,
            "max_width": null,
            "min_height": null,
            "min_width": null,
            "object_fit": null,
            "object_position": null,
            "order": null,
            "overflow": null,
            "overflow_x": null,
            "overflow_y": null,
            "padding": null,
            "right": null,
            "top": null,
            "visibility": null,
            "width": null
          }
        },
        "4aa14827f55b4ae5b9b7ebffc7ce5a57": {
          "model_module": "@jupyter-widgets/controls",
          "model_name": "DescriptionStyleModel",
          "model_module_version": "1.5.0",
          "state": {
            "_model_module": "@jupyter-widgets/controls",
            "_model_module_version": "1.5.0",
            "_model_name": "DescriptionStyleModel",
            "_view_count": null,
            "_view_module": "@jupyter-widgets/base",
            "_view_module_version": "1.2.0",
            "_view_name": "StyleView",
            "description_width": ""
          }
        },
        "4e9946184ebf480e807cf52d4e950b9a": {
          "model_module": "@jupyter-widgets/base",
          "model_name": "LayoutModel",
          "model_module_version": "1.2.0",
          "state": {
            "_model_module": "@jupyter-widgets/base",
            "_model_module_version": "1.2.0",
            "_model_name": "LayoutModel",
            "_view_count": null,
            "_view_module": "@jupyter-widgets/base",
            "_view_module_version": "1.2.0",
            "_view_name": "LayoutView",
            "align_content": null,
            "align_items": null,
            "align_self": null,
            "border": null,
            "bottom": null,
            "display": null,
            "flex": null,
            "flex_flow": null,
            "grid_area": null,
            "grid_auto_columns": null,
            "grid_auto_flow": null,
            "grid_auto_rows": null,
            "grid_column": null,
            "grid_gap": null,
            "grid_row": null,
            "grid_template_areas": null,
            "grid_template_columns": null,
            "grid_template_rows": null,
            "height": null,
            "justify_content": null,
            "justify_items": null,
            "left": null,
            "margin": null,
            "max_height": null,
            "max_width": null,
            "min_height": null,
            "min_width": null,
            "object_fit": null,
            "object_position": null,
            "order": null,
            "overflow": null,
            "overflow_x": null,
            "overflow_y": null,
            "padding": null,
            "right": null,
            "top": null,
            "visibility": null,
            "width": null
          }
        },
        "360e6154a0d547cba8f35d8a5860d237": {
          "model_module": "@jupyter-widgets/controls",
          "model_name": "ProgressStyleModel",
          "model_module_version": "1.5.0",
          "state": {
            "_model_module": "@jupyter-widgets/controls",
            "_model_module_version": "1.5.0",
            "_model_name": "ProgressStyleModel",
            "_view_count": null,
            "_view_module": "@jupyter-widgets/base",
            "_view_module_version": "1.2.0",
            "_view_name": "StyleView",
            "bar_color": null,
            "description_width": ""
          }
        },
        "afc01cf95dfd4adfb59f611a7c3861b5": {
          "model_module": "@jupyter-widgets/base",
          "model_name": "LayoutModel",
          "model_module_version": "1.2.0",
          "state": {
            "_model_module": "@jupyter-widgets/base",
            "_model_module_version": "1.2.0",
            "_model_name": "LayoutModel",
            "_view_count": null,
            "_view_module": "@jupyter-widgets/base",
            "_view_module_version": "1.2.0",
            "_view_name": "LayoutView",
            "align_content": null,
            "align_items": null,
            "align_self": null,
            "border": null,
            "bottom": null,
            "display": null,
            "flex": null,
            "flex_flow": null,
            "grid_area": null,
            "grid_auto_columns": null,
            "grid_auto_flow": null,
            "grid_auto_rows": null,
            "grid_column": null,
            "grid_gap": null,
            "grid_row": null,
            "grid_template_areas": null,
            "grid_template_columns": null,
            "grid_template_rows": null,
            "height": null,
            "justify_content": null,
            "justify_items": null,
            "left": null,
            "margin": null,
            "max_height": null,
            "max_width": null,
            "min_height": null,
            "min_width": null,
            "object_fit": null,
            "object_position": null,
            "order": null,
            "overflow": null,
            "overflow_x": null,
            "overflow_y": null,
            "padding": null,
            "right": null,
            "top": null,
            "visibility": null,
            "width": null
          }
        },
        "a727e1564294448da50ba7c40a3cfb32": {
          "model_module": "@jupyter-widgets/controls",
          "model_name": "DescriptionStyleModel",
          "model_module_version": "1.5.0",
          "state": {
            "_model_module": "@jupyter-widgets/controls",
            "_model_module_version": "1.5.0",
            "_model_name": "DescriptionStyleModel",
            "_view_count": null,
            "_view_module": "@jupyter-widgets/base",
            "_view_module_version": "1.2.0",
            "_view_name": "StyleView",
            "description_width": ""
          }
        }
      }
    }
  },
  "cells": [
    {
      "cell_type": "markdown",
      "metadata": {
        "id": "view-in-github",
        "colab_type": "text"
      },
      "source": [
        "<a href=\"https://colab.research.google.com/github/dyjdlopez/demo-hybrid-quantum-nn/blob/main/demo_cudaq_hqn_part_2.ipynb\" target=\"_parent\"><img src=\"https://colab.research.google.com/assets/colab-badge.svg\" alt=\"Open In Colab\"/></a>"
      ]
    },
    {
      "cell_type": "markdown",
      "source": [
        "# Hybrid Quantum Neural Network with CUDA-Q"
      ],
      "metadata": {
        "id": "LXs772C6EHIO"
      }
    },
    {
      "cell_type": "code",
      "execution_count": null,
      "metadata": {
        "colab": {
          "base_uri": "https://localhost:8080/"
        },
        "id": "pflXjsldD5ku",
        "outputId": "00878b4f-baff-4ea1-fdba-f5e5dae7c5c3"
      },
      "outputs": [
        {
          "output_type": "stream",
          "name": "stdout",
          "text": [
            "Requirement already satisfied: matplotlib==3.8.4 in /usr/local/lib/python3.10/dist-packages (3.8.4)\n",
            "Requirement already satisfied: contourpy>=1.0.1 in /usr/local/lib/python3.10/dist-packages (from matplotlib==3.8.4) (1.2.1)\n",
            "Requirement already satisfied: cycler>=0.10 in /usr/local/lib/python3.10/dist-packages (from matplotlib==3.8.4) (0.12.1)\n",
            "Requirement already satisfied: fonttools>=4.22.0 in /usr/local/lib/python3.10/dist-packages (from matplotlib==3.8.4) (4.53.0)\n",
            "Requirement already satisfied: kiwisolver>=1.3.1 in /usr/local/lib/python3.10/dist-packages (from matplotlib==3.8.4) (1.4.5)\n",
            "Requirement already satisfied: numpy>=1.21 in /usr/local/lib/python3.10/dist-packages (from matplotlib==3.8.4) (1.25.2)\n",
            "Requirement already satisfied: packaging>=20.0 in /usr/local/lib/python3.10/dist-packages (from matplotlib==3.8.4) (24.1)\n",
            "Requirement already satisfied: pillow>=8 in /usr/local/lib/python3.10/dist-packages (from matplotlib==3.8.4) (9.4.0)\n",
            "Requirement already satisfied: pyparsing>=2.3.1 in /usr/local/lib/python3.10/dist-packages (from matplotlib==3.8.4) (3.1.2)\n",
            "Requirement already satisfied: python-dateutil>=2.7 in /usr/local/lib/python3.10/dist-packages (from matplotlib==3.8.4) (2.8.2)\n",
            "Requirement already satisfied: six>=1.5 in /usr/local/lib/python3.10/dist-packages (from python-dateutil>=2.7->matplotlib==3.8.4) (1.16.0)\n",
            "Collecting torch==2.2.2\n",
            "  Using cached torch-2.2.2-cp310-cp310-manylinux1_x86_64.whl (755.5 MB)\n",
            "Requirement already satisfied: filelock in /usr/local/lib/python3.10/dist-packages (from torch==2.2.2) (3.14.0)\n",
            "Requirement already satisfied: typing-extensions>=4.8.0 in /usr/local/lib/python3.10/dist-packages (from torch==2.2.2) (4.12.2)\n",
            "Requirement already satisfied: sympy in /usr/local/lib/python3.10/dist-packages (from torch==2.2.2) (1.12.1)\n",
            "Requirement already satisfied: networkx in /usr/local/lib/python3.10/dist-packages (from torch==2.2.2) (3.3)\n",
            "Requirement already satisfied: jinja2 in /usr/local/lib/python3.10/dist-packages (from torch==2.2.2) (3.1.4)\n",
            "Requirement already satisfied: fsspec in /usr/local/lib/python3.10/dist-packages (from torch==2.2.2) (2023.6.0)\n",
            "Requirement already satisfied: nvidia-cuda-nvrtc-cu12==12.1.105 in /usr/local/lib/python3.10/dist-packages (from torch==2.2.2) (12.1.105)\n",
            "Requirement already satisfied: nvidia-cuda-runtime-cu12==12.1.105 in /usr/local/lib/python3.10/dist-packages (from torch==2.2.2) (12.1.105)\n",
            "Requirement already satisfied: nvidia-cuda-cupti-cu12==12.1.105 in /usr/local/lib/python3.10/dist-packages (from torch==2.2.2) (12.1.105)\n",
            "Collecting nvidia-cudnn-cu12==8.9.2.26 (from torch==2.2.2)\n",
            "  Using cached nvidia_cudnn_cu12-8.9.2.26-py3-none-manylinux1_x86_64.whl (731.7 MB)\n",
            "Requirement already satisfied: nvidia-cublas-cu12==12.1.3.1 in /usr/local/lib/python3.10/dist-packages (from torch==2.2.2) (12.1.3.1)\n",
            "Requirement already satisfied: nvidia-cufft-cu12==11.0.2.54 in /usr/local/lib/python3.10/dist-packages (from torch==2.2.2) (11.0.2.54)\n",
            "Requirement already satisfied: nvidia-curand-cu12==10.3.2.106 in /usr/local/lib/python3.10/dist-packages (from torch==2.2.2) (10.3.2.106)\n",
            "Collecting nvidia-cusolver-cu12==11.4.5.107 (from torch==2.2.2)\n",
            "  Using cached nvidia_cusolver_cu12-11.4.5.107-py3-none-manylinux1_x86_64.whl (124.2 MB)\n",
            "Requirement already satisfied: nvidia-cusparse-cu12==12.1.0.106 in /usr/local/lib/python3.10/dist-packages (from torch==2.2.2) (12.1.0.106)\n",
            "Requirement already satisfied: nvidia-nccl-cu12==2.19.3 in /usr/local/lib/python3.10/dist-packages (from torch==2.2.2) (2.19.3)\n",
            "Requirement already satisfied: nvidia-nvtx-cu12==12.1.105 in /usr/local/lib/python3.10/dist-packages (from torch==2.2.2) (12.1.105)\n",
            "Requirement already satisfied: triton==2.2.0 in /usr/local/lib/python3.10/dist-packages (from torch==2.2.2) (2.2.0)\n",
            "Requirement already satisfied: nvidia-nvjitlink-cu12 in /usr/local/lib/python3.10/dist-packages (from nvidia-cusolver-cu12==11.4.5.107->torch==2.2.2) (12.5.40)\n",
            "Requirement already satisfied: MarkupSafe>=2.0 in /usr/local/lib/python3.10/dist-packages (from jinja2->torch==2.2.2) (2.1.5)\n",
            "Requirement already satisfied: mpmath<1.4.0,>=1.1.0 in /usr/local/lib/python3.10/dist-packages (from sympy->torch==2.2.2) (1.3.0)\n",
            "Installing collected packages: nvidia-cudnn-cu12, nvidia-cusolver-cu12, torch\n",
            "  Attempting uninstall: torch\n",
            "    Found existing installation: torch 2.3.0+cu121\n",
            "    Uninstalling torch-2.3.0+cu121:\n",
            "      Successfully uninstalled torch-2.3.0+cu121\n",
            "\u001b[31mERROR: pip's dependency resolver does not currently take into account all the packages that are installed. This behaviour is the source of the following dependency conflicts.\n",
            "torchaudio 2.3.0+cu121 requires torch==2.3.0, but you have torch 2.2.2 which is incompatible.\n",
            "torchtext 0.18.0 requires torch>=2.3.0, but you have torch 2.2.2 which is incompatible.\n",
            "torchvision 0.18.0+cu121 requires torch==2.3.0, but you have torch 2.2.2 which is incompatible.\u001b[0m\u001b[31m\n",
            "\u001b[0mSuccessfully installed nvidia-cudnn-cu12-8.9.2.26 nvidia-cusolver-cu12-11.4.5.107 torch-2.2.2\n",
            "Collecting torchvision==0.17.0\n",
            "  Using cached torchvision-0.17.0-cp310-cp310-manylinux1_x86_64.whl (6.9 MB)\n",
            "Requirement already satisfied: numpy in /usr/local/lib/python3.10/dist-packages (from torchvision==0.17.0) (1.25.2)\n",
            "Requirement already satisfied: requests in /usr/local/lib/python3.10/dist-packages (from torchvision==0.17.0) (2.31.0)\n",
            "Collecting torch==2.2.0 (from torchvision==0.17.0)\n",
            "  Using cached torch-2.2.0-cp310-cp310-manylinux1_x86_64.whl (755.5 MB)\n",
            "Requirement already satisfied: pillow!=8.3.*,>=5.3.0 in /usr/local/lib/python3.10/dist-packages (from torchvision==0.17.0) (9.4.0)\n",
            "Requirement already satisfied: filelock in /usr/local/lib/python3.10/dist-packages (from torch==2.2.0->torchvision==0.17.0) (3.14.0)\n",
            "Requirement already satisfied: typing-extensions>=4.8.0 in /usr/local/lib/python3.10/dist-packages (from torch==2.2.0->torchvision==0.17.0) (4.12.2)\n",
            "Requirement already satisfied: sympy in /usr/local/lib/python3.10/dist-packages (from torch==2.2.0->torchvision==0.17.0) (1.12.1)\n",
            "Requirement already satisfied: networkx in /usr/local/lib/python3.10/dist-packages (from torch==2.2.0->torchvision==0.17.0) (3.3)\n",
            "Requirement already satisfied: jinja2 in /usr/local/lib/python3.10/dist-packages (from torch==2.2.0->torchvision==0.17.0) (3.1.4)\n",
            "Requirement already satisfied: fsspec in /usr/local/lib/python3.10/dist-packages (from torch==2.2.0->torchvision==0.17.0) (2023.6.0)\n",
            "Requirement already satisfied: nvidia-cuda-nvrtc-cu12==12.1.105 in /usr/local/lib/python3.10/dist-packages (from torch==2.2.0->torchvision==0.17.0) (12.1.105)\n",
            "Requirement already satisfied: nvidia-cuda-runtime-cu12==12.1.105 in /usr/local/lib/python3.10/dist-packages (from torch==2.2.0->torchvision==0.17.0) (12.1.105)\n",
            "Requirement already satisfied: nvidia-cuda-cupti-cu12==12.1.105 in /usr/local/lib/python3.10/dist-packages (from torch==2.2.0->torchvision==0.17.0) (12.1.105)\n",
            "Requirement already satisfied: nvidia-cudnn-cu12==8.9.2.26 in /usr/local/lib/python3.10/dist-packages (from torch==2.2.0->torchvision==0.17.0) (8.9.2.26)\n",
            "Requirement already satisfied: nvidia-cublas-cu12==12.1.3.1 in /usr/local/lib/python3.10/dist-packages (from torch==2.2.0->torchvision==0.17.0) (12.1.3.1)\n",
            "Requirement already satisfied: nvidia-cufft-cu12==11.0.2.54 in /usr/local/lib/python3.10/dist-packages (from torch==2.2.0->torchvision==0.17.0) (11.0.2.54)\n",
            "Requirement already satisfied: nvidia-curand-cu12==10.3.2.106 in /usr/local/lib/python3.10/dist-packages (from torch==2.2.0->torchvision==0.17.0) (10.3.2.106)\n",
            "Requirement already satisfied: nvidia-cusolver-cu12==11.4.5.107 in /usr/local/lib/python3.10/dist-packages (from torch==2.2.0->torchvision==0.17.0) (11.4.5.107)\n",
            "Requirement already satisfied: nvidia-cusparse-cu12==12.1.0.106 in /usr/local/lib/python3.10/dist-packages (from torch==2.2.0->torchvision==0.17.0) (12.1.0.106)\n",
            "Requirement already satisfied: nvidia-nccl-cu12==2.19.3 in /usr/local/lib/python3.10/dist-packages (from torch==2.2.0->torchvision==0.17.0) (2.19.3)\n",
            "Requirement already satisfied: nvidia-nvtx-cu12==12.1.105 in /usr/local/lib/python3.10/dist-packages (from torch==2.2.0->torchvision==0.17.0) (12.1.105)\n",
            "Requirement already satisfied: triton==2.2.0 in /usr/local/lib/python3.10/dist-packages (from torch==2.2.0->torchvision==0.17.0) (2.2.0)\n",
            "Requirement already satisfied: nvidia-nvjitlink-cu12 in /usr/local/lib/python3.10/dist-packages (from nvidia-cusolver-cu12==11.4.5.107->torch==2.2.0->torchvision==0.17.0) (12.5.40)\n",
            "Requirement already satisfied: charset-normalizer<4,>=2 in /usr/local/lib/python3.10/dist-packages (from requests->torchvision==0.17.0) (3.3.2)\n",
            "Requirement already satisfied: idna<4,>=2.5 in /usr/local/lib/python3.10/dist-packages (from requests->torchvision==0.17.0) (3.7)\n",
            "Requirement already satisfied: urllib3<3,>=1.21.1 in /usr/local/lib/python3.10/dist-packages (from requests->torchvision==0.17.0) (2.0.7)\n",
            "Requirement already satisfied: certifi>=2017.4.17 in /usr/local/lib/python3.10/dist-packages (from requests->torchvision==0.17.0) (2024.6.2)\n",
            "Requirement already satisfied: MarkupSafe>=2.0 in /usr/local/lib/python3.10/dist-packages (from jinja2->torch==2.2.0->torchvision==0.17.0) (2.1.5)\n",
            "Requirement already satisfied: mpmath<1.4.0,>=1.1.0 in /usr/local/lib/python3.10/dist-packages (from sympy->torch==2.2.0->torchvision==0.17.0) (1.3.0)\n",
            "Installing collected packages: torch, torchvision\n",
            "  Attempting uninstall: torch\n",
            "    Found existing installation: torch 2.2.2\n",
            "    Uninstalling torch-2.2.2:\n",
            "      Successfully uninstalled torch-2.2.2\n",
            "  Attempting uninstall: torchvision\n",
            "    Found existing installation: torchvision 0.18.0+cu121\n",
            "    Uninstalling torchvision-0.18.0+cu121:\n",
            "      Successfully uninstalled torchvision-0.18.0+cu121\n",
            "\u001b[31mERROR: pip's dependency resolver does not currently take into account all the packages that are installed. This behaviour is the source of the following dependency conflicts.\n",
            "torchaudio 2.3.0+cu121 requires torch==2.3.0, but you have torch 2.2.0 which is incompatible.\n",
            "torchtext 0.18.0 requires torch>=2.3.0, but you have torch 2.2.0 which is incompatible.\u001b[0m\u001b[31m\n",
            "\u001b[0mSuccessfully installed torch-2.2.0 torchvision-0.17.0\n",
            "Collecting scikit-learn==1.4.2\n",
            "  Downloading scikit_learn-1.4.2-cp310-cp310-manylinux_2_17_x86_64.manylinux2014_x86_64.whl (12.1 MB)\n",
            "\u001b[2K     \u001b[90m━━━━━━━━━━━━━━━━━━━━━━━━━━━━━━━━━━━━━━━━\u001b[0m \u001b[32m12.1/12.1 MB\u001b[0m \u001b[31m91.6 MB/s\u001b[0m eta \u001b[36m0:00:00\u001b[0m\n",
            "\u001b[?25hRequirement already satisfied: numpy>=1.19.5 in /usr/local/lib/python3.10/dist-packages (from scikit-learn==1.4.2) (1.25.2)\n",
            "Requirement already satisfied: scipy>=1.6.0 in /usr/local/lib/python3.10/dist-packages (from scikit-learn==1.4.2) (1.11.4)\n",
            "Requirement already satisfied: joblib>=1.2.0 in /usr/local/lib/python3.10/dist-packages (from scikit-learn==1.4.2) (1.4.2)\n",
            "Requirement already satisfied: threadpoolctl>=2.0.0 in /usr/local/lib/python3.10/dist-packages (from scikit-learn==1.4.2) (3.5.0)\n",
            "Installing collected packages: scikit-learn\n",
            "  Attempting uninstall: scikit-learn\n",
            "    Found existing installation: scikit-learn 1.2.2\n",
            "    Uninstalling scikit-learn-1.2.2:\n",
            "      Successfully uninstalled scikit-learn-1.2.2\n",
            "Successfully installed scikit-learn-1.4.2\n",
            "--2024-06-18 16:15:51--  https://developer.download.nvidia.com/compute/cuda/repos/ubuntu2204/x86_64/cuda-keyring_1.0-1_all.deb\n",
            "Resolving developer.download.nvidia.com (developer.download.nvidia.com)... 152.199.39.144\n",
            "Connecting to developer.download.nvidia.com (developer.download.nvidia.com)|152.199.39.144|:443... connected.\n",
            "HTTP request sent, awaiting response... 200 OK\n",
            "Length: 4332 (4.2K) [application/x-deb]\n",
            "Saving to: ‘cuda-keyring_1.0-1_all.deb’\n",
            "\n",
            "cuda-keyring_1.0-1_ 100%[===================>]   4.23K  --.-KB/s    in 0s      \n",
            "\n",
            "2024-06-18 16:15:51 (268 MB/s) - ‘cuda-keyring_1.0-1_all.deb’ saved [4332/4332]\n",
            "\n",
            "(Reading database ... 121913 files and directories currently installed.)\n",
            "Preparing to unpack cuda-keyring_1.0-1_all.deb ...\n",
            "Unpacking cuda-keyring (1.0-1) over (1.0-1) ...\n",
            "Setting up cuda-keyring (1.0-1) ...\n",
            "\n",
            "A deprecated public CUDA GPG key appear to be installed.\n",
            "To remove the key, run this command:\n",
            "sudo apt-key del 7fa2af80\n",
            "\n",
            "Get:1 https://cloud.r-project.org/bin/linux/ubuntu jammy-cran40/ InRelease [3,626 B]\n",
            "Get:2 https://developer.download.nvidia.com/compute/cuda/repos/ubuntu2204/x86_64  InRelease [1,581 B]\n",
            "Get:3 https://cloud.r-project.org/bin/linux/ubuntu jammy-cran40/ Packages [55.4 kB]\n",
            "Get:4 https://developer.download.nvidia.com/compute/cuda/repos/ubuntu2204/x86_64  Packages [927 kB]\n",
            "Get:5 http://security.ubuntu.com/ubuntu jammy-security InRelease [129 kB]\n",
            "Hit:6 http://archive.ubuntu.com/ubuntu jammy InRelease\n",
            "Get:7 http://archive.ubuntu.com/ubuntu jammy-updates InRelease [128 kB]\n",
            "Hit:8 https://ppa.launchpadcontent.net/c2d4u.team/c2d4u4.0+/ubuntu jammy InRelease\n",
            "Get:9 http://security.ubuntu.com/ubuntu jammy-security/main amd64 Packages [1,921 kB]\n",
            "Hit:10 https://ppa.launchpadcontent.net/deadsnakes/ppa/ubuntu jammy InRelease\n",
            "Hit:11 https://ppa.launchpadcontent.net/graphics-drivers/ppa/ubuntu jammy InRelease\n",
            "Hit:12 http://archive.ubuntu.com/ubuntu jammy-backports InRelease\n",
            "Hit:13 https://ppa.launchpadcontent.net/ubuntugis/ppa/ubuntu jammy InRelease\n",
            "Get:14 http://archive.ubuntu.com/ubuntu jammy-updates/main amd64 Packages [2,187 kB]\n",
            "Get:15 http://security.ubuntu.com/ubuntu jammy-security/restricted amd64 Packages [2,474 kB]\n",
            "Get:16 http://security.ubuntu.com/ubuntu jammy-security/universe amd64 Packages [1,092 kB]\n",
            "Get:17 http://archive.ubuntu.com/ubuntu jammy-updates/restricted amd64 Packages [2,546 kB]\n",
            "Get:18 http://archive.ubuntu.com/ubuntu jammy-updates/universe amd64 Packages [1,392 kB]\n",
            "Get:19 http://archive.ubuntu.com/ubuntu jammy-updates/multiverse amd64 Packages [51.8 kB]\n",
            "Fetched 12.9 MB in 4s (3,431 kB/s)\n",
            "Reading package lists... Done\n",
            "Reading package lists... Done\n",
            "Building dependency tree... Done\n",
            "Reading state information... Done\n",
            "The following additional packages will be installed:\n",
            "  cuda-toolkit-11-8-config-common cuda-toolkit-11-config-common\n",
            "The following NEW packages will be installed:\n",
            "  cuda-cudart-11-8 cuda-toolkit-11-8-config-common cuda-toolkit-11-config-common libcublas-11-8\n",
            "  libcusolver-11-8\n",
            "0 upgraded, 5 newly installed, 0 to remove and 49 not upgraded.\n",
            "Need to get 300 MB of archives.\n",
            "After this operation, 1,159 MB of additional disk space will be used.\n",
            "Get:1 https://developer.download.nvidia.com/compute/cuda/repos/ubuntu2204/x86_64  cuda-toolkit-11-config-common 11.8.89-1 [16.4 kB]\n",
            "Get:2 https://developer.download.nvidia.com/compute/cuda/repos/ubuntu2204/x86_64  cuda-toolkit-11-8-config-common 11.8.89-1 [16.3 kB]\n",
            "Get:3 https://developer.download.nvidia.com/compute/cuda/repos/ubuntu2204/x86_64  cuda-cudart-11-8 11.8.89-1 [165 kB]\n",
            "Get:4 https://developer.download.nvidia.com/compute/cuda/repos/ubuntu2204/x86_64  libcublas-11-8 11.11.3.6-1 [248 MB]\n",
            "Get:5 https://developer.download.nvidia.com/compute/cuda/repos/ubuntu2204/x86_64  libcusolver-11-8 11.4.1.48-1 [52.3 MB]\n",
            "Fetched 300 MB in 4s (79.5 MB/s)\n",
            "Selecting previously unselected package cuda-toolkit-11-config-common.\n",
            "(Reading database ... 121913 files and directories currently installed.)\n",
            "Preparing to unpack .../cuda-toolkit-11-config-common_11.8.89-1_all.deb ...\n",
            "Unpacking cuda-toolkit-11-config-common (11.8.89-1) ...\n",
            "Selecting previously unselected package cuda-toolkit-11-8-config-common.\n",
            "Preparing to unpack .../cuda-toolkit-11-8-config-common_11.8.89-1_all.deb ...\n",
            "Unpacking cuda-toolkit-11-8-config-common (11.8.89-1) ...\n",
            "Selecting previously unselected package cuda-cudart-11-8.\n",
            "Preparing to unpack .../cuda-cudart-11-8_11.8.89-1_amd64.deb ...\n",
            "Unpacking cuda-cudart-11-8 (11.8.89-1) ...\n",
            "Selecting previously unselected package libcublas-11-8.\n",
            "Preparing to unpack .../libcublas-11-8_11.11.3.6-1_amd64.deb ...\n",
            "Unpacking libcublas-11-8 (11.11.3.6-1) ...\n",
            "Selecting previously unselected package libcusolver-11-8.\n",
            "Preparing to unpack .../libcusolver-11-8_11.4.1.48-1_amd64.deb ...\n",
            "Unpacking libcusolver-11-8 (11.4.1.48-1) ...\n",
            "Setting up cuda-toolkit-11-config-common (11.8.89-1) ...\n",
            "Setting up cuda-toolkit-11-8-config-common (11.8.89-1) ...\n",
            "Setting alternatives\n",
            "update-alternatives: using /usr/local/cuda-11.8 to provide /usr/local/cuda-11 (cuda-11) in auto mode\n",
            "Setting up libcusolver-11-8 (11.4.1.48-1) ...\n",
            "Setting up cuda-cudart-11-8 (11.8.89-1) ...\n",
            "Setting up libcublas-11-8 (11.11.3.6-1) ...\n",
            "Processing triggers for libc-bin (2.35-0ubuntu3.4) ...\n",
            "/sbin/ldconfig.real: /usr/local/lib/libtbbbind_2_5.so.3 is not a symbolic link\n",
            "\n",
            "/sbin/ldconfig.real: /usr/local/lib/libtbbmalloc.so.2 is not a symbolic link\n",
            "\n",
            "/sbin/ldconfig.real: /usr/local/lib/libtbb.so.12 is not a symbolic link\n",
            "\n",
            "/sbin/ldconfig.real: /usr/local/lib/libtbbbind_2_0.so.3 is not a symbolic link\n",
            "\n",
            "/sbin/ldconfig.real: /usr/local/lib/libtbbbind.so.3 is not a symbolic link\n",
            "\n",
            "/sbin/ldconfig.real: /usr/local/lib/libtbbmalloc_proxy.so.2 is not a symbolic link\n",
            "\n",
            "Collecting cuda-quantum==0.7.1\n",
            "  Downloading cuda_quantum-0.7.1-cp310-cp310-manylinux_2_28_x86_64.whl (105.8 MB)\n",
            "\u001b[2K     \u001b[90m━━━━━━━━━━━━━━━━━━━━━━━━━━━━━━━━━━━━━━━━\u001b[0m \u001b[32m105.8/105.8 MB\u001b[0m \u001b[31m8.9 MB/s\u001b[0m eta \u001b[36m0:00:00\u001b[0m\n",
            "\u001b[?25hCollecting astpretty~=3.0 (from cuda-quantum==0.7.1)\n",
            "  Downloading astpretty-3.0.0-py2.py3-none-any.whl (4.9 kB)\n",
            "Collecting cuquantum-cu11~=23.10 (from cuda-quantum==0.7.1)\n",
            "  Downloading cuquantum_cu11-23.10.0-py3-none-manylinux2014_x86_64.whl (7.0 kB)\n",
            "Collecting graphlib-backport>=1.0 (from cuda-quantum==0.7.1)\n",
            "  Downloading graphlib_backport-1.1.0-py3-none-any.whl (7.1 kB)\n",
            "Requirement already satisfied: numpy>=1.24 in /usr/local/lib/python3.10/dist-packages (from cuda-quantum==0.7.1) (1.25.2)\n",
            "Collecting custatevec-cu11==1.5.0 (from cuquantum-cu11~=23.10->cuda-quantum==0.7.1)\n",
            "  Downloading custatevec_cu11-1.5.0-py3-none-manylinux2014_x86_64.whl (38.9 MB)\n",
            "\u001b[2K     \u001b[90m━━━━━━━━━━━━━━━━━━━━━━━━━━━━━━━━━━━━━━━━\u001b[0m \u001b[32m38.9/38.9 MB\u001b[0m \u001b[31m13.2 MB/s\u001b[0m eta \u001b[36m0:00:00\u001b[0m\n",
            "\u001b[?25hCollecting cutensornet-cu11==2.3.0 (from cuquantum-cu11~=23.10->cuda-quantum==0.7.1)\n",
            "  Downloading cutensornet_cu11-2.3.0-py3-none-manylinux2014_x86_64.whl (2.2 MB)\n",
            "\u001b[2K     \u001b[90m━━━━━━━━━━━━━━━━━━━━━━━━━━━━━━━━━━━━━━━━\u001b[0m \u001b[32m2.2/2.2 MB\u001b[0m \u001b[31m80.4 MB/s\u001b[0m eta \u001b[36m0:00:00\u001b[0m\n",
            "\u001b[?25hCollecting cutensor-cu11<2,>=1.6.1 (from cutensornet-cu11==2.3.0->cuquantum-cu11~=23.10->cuda-quantum==0.7.1)\n",
            "  Downloading cutensor_cu11-1.7.0-py3-none-manylinux2014_x86_64.whl (142.1 MB)\n",
            "\u001b[2K     \u001b[90m━━━━━━━━━━━━━━━━━━━━━━━━━━━━━━━━━━━━━━━━\u001b[0m \u001b[32m142.1/142.1 MB\u001b[0m \u001b[31m8.0 MB/s\u001b[0m eta \u001b[36m0:00:00\u001b[0m\n",
            "\u001b[?25hInstalling collected packages: cutensor-cu11, custatevec-cu11, graphlib-backport, cutensornet-cu11, astpretty, cuquantum-cu11, cuda-quantum\n",
            "Successfully installed astpretty-3.0.0 cuda-quantum-0.7.1 cuquantum-cu11-23.10.0 custatevec-cu11-1.5.0 cutensor-cu11-1.7.0 cutensornet-cu11-2.3.0 graphlib-backport-1.1.0\n"
          ]
        }
      ],
      "source": [
        "!pip install matplotlib==3.8.4\n",
        "!pip install torch==2.2.2\n",
        "!pip install torchvision==0.17.0\n",
        "!pip install scikit-learn==1.4.2\n",
        "!wget https://developer.download.nvidia.com/compute/cuda/repos/ubuntu2204/x86_64/cuda-keyring_1.0-1_all.deb\n",
        "!dpkg -i cuda-keyring_1.0-1_all.deb\n",
        "!apt-get update\n",
        "!apt-get -y install libcublas-11-8 libcusolver-11-8 cuda-cudart-11-8\n",
        "\n",
        "%pip install cuda-quantum==0.7.1"
      ]
    },
    {
      "cell_type": "code",
      "source": [
        "import cudaq\n",
        "from cudaq import spin\n",
        "\n",
        "import matplotlib.pyplot as plt\n",
        "\n",
        "import numpy as np\n",
        "\n",
        "import torch\n",
        "from torch.autograd import Function\n",
        "from torchvision import datasets, transforms\n",
        "import torch.optim as optim\n",
        "import torch.nn as nn\n",
        "import torchvision\n",
        "\n",
        "from sklearn.model_selection import train_test_split\n",
        "\n",
        "torch.manual_seed(22)\n",
        "cudaq.set_random_seed(44)"
      ],
      "metadata": {
        "id": "kBnzepycEWrn"
      },
      "execution_count": null,
      "outputs": []
    },
    {
      "cell_type": "code",
      "source": [
        "# Set CUDAQ and PyTorch to run on either CPU or GPU.\n",
        "\n",
        "# device = torch.device('cpu')\n",
        "# cudaq.set_target(\"qpp-cpu\")\n",
        "\n",
        "cudaq.set_target(\"nvidia\")\n",
        "device = torch.device(\"cuda:0\")"
      ],
      "metadata": {
        "id": "eNAW7BxsEdLV"
      },
      "execution_count": null,
      "outputs": []
    },
    {
      "cell_type": "markdown",
      "source": [
        "## 1. Quantum Circuit\n",
        "We build a quantum circuit with n_qubits parameterized quantum kernel. A Hadarmad opertor and a rotational operator are applied on all qubits. The result returned is the expectation value. This quantum circuit can be used as a alternative to the softmax layer in classification problem. This will provides us a simple interface for interaction with the quantum circuit later in the classical part."
      ],
      "metadata": {
        "id": "6G-VSLNqELrH"
      }
    },
    {
      "cell_type": "code",
      "source": [
        "class QuantumCircuit:\n",
        "    \"\"\"\n",
        "    This class provides a simple interface for interaction\n",
        "    with the quantum circuit\n",
        "    \"\"\"\n",
        "\n",
        "    def __init__(self, n_qubits):\n",
        "\n",
        "        kernel, theta = cudaq.make_kernel(list)\n",
        "\n",
        "        self.kernel = kernel\n",
        "\n",
        "        self.theta = theta\n",
        "\n",
        "        qubits = kernel.qalloc(n_qubits)\n",
        "\n",
        "        self.kernel.h(qubits)\n",
        "\n",
        "        kernel.ry(theta[0], qubits)\n",
        "\n",
        "\n",
        "    def run(self, thetas):\n",
        "\n",
        "        expectation = cudaq.observe(self.kernel, spin.z(0), thetas).expectation()\n",
        "\n",
        "        return np.array([expectation])"
      ],
      "metadata": {
        "id": "k0xgSAmpE962"
      },
      "execution_count": null,
      "outputs": []
    },
    {
      "cell_type": "code",
      "source": [
        "simulator = cudaq.set_target('nvidia')\n",
        "\n",
        "circuit = QuantumCircuit(1)\n",
        "circuit.run([6])"
      ],
      "metadata": {
        "colab": {
          "base_uri": "https://localhost:8080/"
        },
        "id": "ERt6_m4EFEiX",
        "outputId": "91a9409f-9fd7-401e-9299-5d4450defc29"
      },
      "execution_count": null,
      "outputs": [
        {
          "output_type": "execute_result",
          "data": {
            "text/plain": [
              "array([0.27941549])"
            ]
          },
          "metadata": {},
          "execution_count": 4
        }
      ]
    },
    {
      "cell_type": "markdown",
      "source": [
        "##2. Quantum function as a Pytorch Module\n",
        "Now we create the quantum function on `torch.Function` class and hybrid module based on `torch.nn.Module`. In this Quantum Function, we define the forward pass and the backward pass which is essential for training. The gradient is computed with parameter shift. The hybrid module is composed by the quantum circuit and the hybrid function."
      ],
      "metadata": {
        "id": "qjaIxYgxFXNs"
      }
    },
    {
      "cell_type": "code",
      "source": [
        "class QuantumFunction(Function):\n",
        "    \"\"\"Allows the quantum circuit to input data, output expectation values\n",
        "    and calculate gradients of variational parameters via finite difference\"\"\"\n",
        "\n",
        "    def __init__(self, qubit_count: int, hamiltonian: cudaq.SpinOperator):\n",
        "        \"\"\"Define the quantum circuit in CUDA Quantum\"\"\"\n",
        "\n",
        "        @cudaq.kernel\n",
        "        def kernel(qubit_count: int, thetas: np.ndarray):\n",
        "\n",
        "            qubits = cudaq.qvector(qubit_count)\n",
        "\n",
        "            ry(thetas[0], qubits[0])\n",
        "            rx(thetas[1], qubits[0])\n",
        "\n",
        "        self.kernel = kernel\n",
        "        self.qubit_count = qubit_count\n",
        "        self.hamiltonian = hamiltonian\n",
        "\n",
        "    def run(self, theta_vals: torch.tensor) -> torch.tensor:\n",
        "        \"\"\"Excetute the quantum circuit to output an expectation value\"\"\"\n",
        "\n",
        "        #If running on GPU, thetas is a torch.tensor that will live on GPU memory. The observe function calls a .tolist() method on inputs which moves thetas from GPU to CPU.\n",
        "\n",
        "        qubit_count = [self.qubit_count for _ in range(theta_vals.shape[0])]\n",
        "\n",
        "        results = cudaq.observe(self.kernel, self.hamiltonian, qubit_count,\n",
        "                                theta_vals)\n",
        "\n",
        "        exp_vals = [results[i].expectation() for i in range(len(results))]\n",
        "        exp_vals = torch.Tensor(exp_vals).to(device)\n",
        "\n",
        "        return exp_vals\n",
        "\n",
        "    @staticmethod\n",
        "    def forward(ctx, thetas: torch.tensor, quantum_circuit,\n",
        "                shift) -> torch.tensor:\n",
        "\n",
        "        # Save shift and quantum_circuit in context to use in backward.\n",
        "        ctx.shift = shift\n",
        "        ctx.quantum_circuit = quantum_circuit\n",
        "\n",
        "        # Calculate expectation value.\n",
        "        exp_vals = ctx.quantum_circuit.run(thetas).reshape(-1, 1)\n",
        "\n",
        "        ctx.save_for_backward(thetas, exp_vals)\n",
        "\n",
        "        return exp_vals\n",
        "\n",
        "    @staticmethod\n",
        "    def backward(ctx, grad_output):\n",
        "        \"\"\"Backward pass computation via finite difference\"\"\"\n",
        "\n",
        "        thetas, _ = ctx.saved_tensors\n",
        "\n",
        "        gradients = torch.zeros(thetas.shape, device=device)\n",
        "\n",
        "        for i in range(thetas.shape[1]):\n",
        "\n",
        "            thetas_plus = thetas.clone()\n",
        "            thetas_plus[:, i] += ctx.shift\n",
        "            exp_vals_plus = ctx.quantum_circuit.run(thetas_plus)\n",
        "\n",
        "            thetas_minus = thetas.clone()\n",
        "            thetas_minus[:, i] -= ctx.shift\n",
        "            exp_vals_minus = ctx.quantum_circuit.run(thetas_minus)\n",
        "\n",
        "            gradients[:, i] = (exp_vals_plus - exp_vals_minus) / (2 * ctx.shift)\n",
        "\n",
        "        gradients = torch.mul(grad_output, gradients)\n",
        "\n",
        "        return gradients, None, None"
      ],
      "metadata": {
        "id": "aotH6UwbEK1h"
      },
      "execution_count": null,
      "outputs": []
    },
    {
      "cell_type": "markdown",
      "source": [
        "##3. Dataset Preparation"
      ],
      "metadata": {
        "id": "aJLVoWi8FzuM"
      }
    },
    {
      "cell_type": "code",
      "source": [
        "def prepare_data(target_digits, sample_count, test_size):\n",
        "    \"\"\"Load and prepare the MNIST dataset to be used\n",
        "\n",
        "    Args:\n",
        "        target_digits (list): digits to perform classification of\n",
        "        sample_count (int): total number of images to be used\n",
        "        test_size (float): percentage of sample_count to be used as test set, the remainder is the training set\n",
        "\n",
        "    Returns:\n",
        "        dataset in train, test format with targets\n",
        "\n",
        "    \"\"\"\n",
        "\n",
        "    transform = transforms.Compose(\n",
        "        [transforms.ToTensor(),\n",
        "         transforms.Normalize((0.1307), (0.3081))])\n",
        "\n",
        "    dataset = datasets.MNIST(\"./data\",\n",
        "                             train=True,\n",
        "                             download=True,\n",
        "                             transform=transform)\n",
        "\n",
        "    # Filter out the required labels.\n",
        "    idx = (dataset.targets == target_digits[0]) | (dataset.targets\n",
        "                                                   == target_digits[1])\n",
        "    dataset.data = dataset.data[idx]\n",
        "    dataset.targets = dataset.targets[idx]\n",
        "\n",
        "    # Select a subset based on number of datapoints specified by sample_count.\n",
        "    subset_indices = torch.randperm(dataset.data.size(0))[:sample_count]\n",
        "\n",
        "    x = dataset.data[subset_indices].float().unsqueeze(1).to(device)\n",
        "\n",
        "    y = dataset.targets[subset_indices].to(device).float().to(device)\n",
        "\n",
        "    # Relabel the targets as a 0 or a 1.\n",
        "    y = torch.where(y == min(target_digits), 0.0, 1.0)\n",
        "\n",
        "    x_train, x_test, y_train, y_test = train_test_split(x,\n",
        "                                                        y,\n",
        "                                                        test_size=test_size /\n",
        "                                                        100,\n",
        "                                                        shuffle=True,\n",
        "                                                        random_state=42)\n",
        "\n",
        "    return x_train, x_test, y_train, y_test"
      ],
      "metadata": {
        "id": "QmJQlfacFy3H"
      },
      "execution_count": null,
      "outputs": []
    },
    {
      "cell_type": "markdown",
      "source": [
        "##4. Dataset Splicing"
      ],
      "metadata": {
        "id": "kLCTA-IfGDaj"
      }
    },
    {
      "cell_type": "code",
      "source": [
        "# Classical parameters.\n",
        "\n",
        "sample_count = 1000  # Total number of images to use.\n",
        "target_digits = [5, 6]  # Hand written digits to classify.\n",
        "test_size = 30  # Percentage of dataset to be used for testing.\n",
        "classification_threshold = 0.5  # Classification boundary used to measure accuracy.\n",
        "epochs = 10  # Number of epochs to train for.\n",
        "\n",
        "# Quantum parmeters.\n",
        "\n",
        "qubit_count = 1\n",
        "hamiltonian = spin.z(0)  # Measurement operator.\n",
        "shift = torch.tensor(torch.pi / 2)  # Magnitude of parameter shift."
      ],
      "metadata": {
        "id": "CetOAY0RF77P"
      },
      "execution_count": null,
      "outputs": []
    },
    {
      "cell_type": "code",
      "source": [
        "x_train, x_test, y_train, y_test = prepare_data(target_digits, sample_count,\n",
        "                                                test_size)"
      ],
      "metadata": {
        "id": "ODo7uDGxGIAK"
      },
      "execution_count": null,
      "outputs": []
    },
    {
      "cell_type": "code",
      "source": [
        "# Plot some images from the training set to visualise.\n",
        "\n",
        "grid_img = torchvision.utils.make_grid(x_train[:10].cpu(),\n",
        "                                       nrow=5,\n",
        "                                       padding=3,\n",
        "                                       normalize=True)\n",
        "plt.imshow(grid_img.permute(1, 2, 0))\n",
        "plt.axis('off')\n",
        "plt.show()"
      ],
      "metadata": {
        "colab": {
          "base_uri": "https://localhost:8080/",
          "height": 241
        },
        "id": "lr5QWWE7GJnt",
        "outputId": "60972207-ad1e-4e2f-fb79-c7293a84fd72"
      },
      "execution_count": null,
      "outputs": [
        {
          "output_type": "display_data",
          "data": {
            "text/plain": [
              "<Figure size 640x480 with 1 Axes>"
            ],
            "image/png": "[encoded data removed]"
          },
          "metadata": {}
        }
      ]
    },
    {
      "cell_type": "markdown",
      "source": [
        "##6. Creating a Hybrid Quantum Structure\n"
      ],
      "metadata": {
        "id": "5zigYvXsGQS0"
      }
    },
    {
      "cell_type": "code",
      "source": [
        "class QuantumLayer(nn.Module):\n",
        "    \"\"\"Encapsulates a quantum circuit into a quantum layer adhering PyTorch convention\"\"\"\n",
        "\n",
        "    def __init__(self, qubit_count: int, hamiltonian, shift: torch.tensor):\n",
        "        super(QuantumLayer, self).__init__()\n",
        "\n",
        "        self.quantum_circuit = QuantumFunction(qubit_count, hamiltonian)\n",
        "        self.shift = shift\n",
        "\n",
        "    def forward(self, input):\n",
        "\n",
        "        result = QuantumFunction.apply(input, self.quantum_circuit, self.shift)\n",
        "\n",
        "        return result"
      ],
      "metadata": {
        "id": "6ugc-QsOGXl2"
      },
      "execution_count": null,
      "outputs": []
    },
    {
      "cell_type": "code",
      "source": [
        "class Hyrbid_QNN(nn.Module):\n",
        "    \"\"\"Structure of the hybrid neural network with classical fully connected layers and quantum layers\"\"\"\n",
        "\n",
        "    def __init__(self):\n",
        "        super(Hyrbid_QNN, self).__init__()\n",
        "\n",
        "        self.fc1 = nn.Linear(28 * 28, 256)\n",
        "        self.fc2 = nn.Linear(256, 128)\n",
        "        self.dropout = nn.Dropout(0.25)\n",
        "\n",
        "        self.fc3 = nn.Linear(128, 64)\n",
        "        self.fc4 = nn.Linear(64, 32)\n",
        "        self.fc5 = nn.Linear(32, 2)\n",
        "        self.dropout = nn.Dropout(0.25)\n",
        "\n",
        "        # The 2 outputs from PyTorch fc5 layer feed into the 2 variational gates in the quantum circuit.\n",
        "        self.quantum = QuantumLayer(qubit_count, hamiltonian, shift)\n",
        "\n",
        "    def forward(self, x):\n",
        "\n",
        "        x = x.view(-1, 28 * 28)  # Turns images into vectors.\n",
        "\n",
        "        x = torch.relu(self.fc1(x))\n",
        "        x = torch.relu(self.fc2(x))\n",
        "        x = self.dropout(x)\n",
        "\n",
        "        x = torch.relu(self.fc3(x))\n",
        "        x = torch.relu(self.fc4(x))\n",
        "        x = torch.relu(self.fc5(x))\n",
        "        x = self.dropout(x)\n",
        "\n",
        "        # Quantum circuit outputs an expectation value which is fed into the sigmoid activation function to perform classification.\n",
        "        x = torch.sigmoid(self.quantum(x))\n",
        "\n",
        "        return x.view(-1)"
      ],
      "metadata": {
        "id": "7_85fsN8Gaxg"
      },
      "execution_count": null,
      "outputs": []
    },
    {
      "cell_type": "markdown",
      "source": [
        "##7. Training and Evaluation"
      ],
      "metadata": {
        "id": "FvluXsblGfUq"
      }
    },
    {
      "cell_type": "code",
      "source": [
        "def accuracy_score(y, y_hat):\n",
        "    return sum((y == (y_hat >= classification_threshold))) / len(y)"
      ],
      "metadata": {
        "id": "r-EOkTyeGhDZ"
      },
      "execution_count": null,
      "outputs": []
    },
    {
      "cell_type": "code",
      "source": [
        "from tqdm.notebook import tqdm_notebook as tqdm\n",
        "hybrid_model = Hyrbid_QNN().to(device)\n",
        "\n",
        "optimizer = optim.Adadelta(hybrid_model.parameters(),\n",
        "                           lr=0.001,\n",
        "                           weight_decay=0.8)\n",
        "\n",
        "loss_function = nn.BCELoss().to(device)\n",
        "\n",
        "training_cost = []\n",
        "testing_cost = []\n",
        "training_accuracy = []\n",
        "testing_accuracy = []\n",
        "\n",
        "hybrid_model.train()\n",
        "for epoch in tqdm(range(epochs)):\n",
        "\n",
        "    optimizer.zero_grad()\n",
        "\n",
        "    y_hat_train = hybrid_model(x_train).to(device)\n",
        "\n",
        "    train_cost = loss_function(y_hat_train, y_train).to(device)\n",
        "\n",
        "    train_cost.backward()\n",
        "\n",
        "    optimizer.step()\n",
        "\n",
        "    training_accuracy.append(accuracy_score(y_train, y_hat_train))\n",
        "    training_cost.append(train_cost.item())\n",
        "\n",
        "    hybrid_model.eval()\n",
        "    with torch.no_grad():\n",
        "\n",
        "        y_hat_test = hybrid_model(x_test).to(device)\n",
        "\n",
        "        test_cost = loss_function(y_hat_test, y_test).to(device)\n",
        "\n",
        "        testing_accuracy.append(accuracy_score(y_test, y_hat_test))\n",
        "        testing_cost.append(test_cost.item())"
      ],
      "metadata": {
        "colab": {
          "base_uri": "https://localhost:8080/",
          "height": 49,
          "referenced_widgets": [
            "84e42eb3e81f4f34aa848a5158fc24a5",
            "f6d6ac92a48542d0b4ac293d70bbc5fc",
            "0f9bd7f1004440359147db8de25e3966",
            "b9815e5eef7944fe906df633e9b5330e",
            "6a80e69010574c0fa9334a22e3598fb9",
            "a175883e841c42c78b562c1089c9cf84",
            "4aa14827f55b4ae5b9b7ebffc7ce5a57",
            "4e9946184ebf480e807cf52d4e950b9a",
            "360e6154a0d547cba8f35d8a5860d237",
            "afc01cf95dfd4adfb59f611a7c3861b5",
            "a727e1564294448da50ba7c40a3cfb32"
          ]
        },
        "id": "idhwL7_qGjKh",
        "outputId": "834d26d1-972a-417f-fe18-232a1157e385"
      },
      "execution_count": null,
      "outputs": [
        {
          "output_type": "display_data",
          "data": {
            "text/plain": [
              "  0%|          | 0/10 [00:00<?, ?it/s]"
            ],
            "application/vnd.jupyter.widget-view+json": {
              "version_major": 2,
              "version_minor": 0,
              "model_id": "84e42eb3e81f4f34aa848a5158fc24a5"
            }
          },
          "metadata": {}
        }
      ]
    },
    {
      "cell_type": "code",
      "source": [
        "plt.figure(figsize=(10, 5))\n",
        "\n",
        "plt.subplot(1, 2, 1)\n",
        "plt.plot(training_cost, label='Train')\n",
        "plt.plot(testing_cost, label='Test')\n",
        "plt.xlabel('Epochs')\n",
        "plt.ylabel('Cost')\n",
        "plt.legend()\n",
        "\n",
        "plt.subplot(1, 2, 2)\n",
        "plt.plot(training_accuracy, label='Train')\n",
        "plt.plot(testing_accuracy, label='Test')\n",
        "plt.xlabel('Epochs')\n",
        "plt.ylabel('Accuracy')\n",
        "plt.legend()\n",
        "\n",
        "plt.tight_layout()\n",
        "plt.show()"
      ],
      "metadata": {
        "colab": {
          "base_uri": "https://localhost:8080/",
          "height": 1000
        },
        "id": "_O2BEJrIGnZ5",
        "outputId": "a0385d18-dccb-4bdb-cbd3-25e17702af35"
      },
      "execution_count": null,
      "outputs": [
        {
          "output_type": "stream",
          "name": "stderr",
          "text": [
            "ERROR:root:Internal Python error in the inspect module.\n",
            "Below is the traceback from this internal error.\n",
            "\n",
            "ERROR:root:Internal Python error in the inspect module.\n",
            "Below is the traceback from this internal error.\n",
            "\n",
            "ERROR:root:Internal Python error in the inspect module.\n",
            "Below is the traceback from this internal error.\n",
            "\n"
          ]
        },
        {
          "output_type": "stream",
          "name": "stdout",
          "text": [
            "TypeError: can't convert cuda:0 device type tensor to numpy. Use Tensor.cpu() to copy the tensor to host memory first.\n",
            "\n",
            "During handling of the above exception, another exception occurred:\n",
            "\n",
            "AttributeError: 'TypeError' object has no attribute '_render_traceback_'\n",
            "\n",
            "During handling of the above exception, another exception occurred:\n",
            "\n",
            "AssertionError\n",
            "TypeError: can't convert cuda:0 device type tensor to numpy. Use Tensor.cpu() to copy the tensor to host memory first.\n",
            "\n",
            "During handling of the above exception, another exception occurred:\n",
            "\n",
            "AttributeError: 'TypeError' object has no attribute '_render_traceback_'\n",
            "\n",
            "During handling of the above exception, another exception occurred:\n",
            "\n",
            "TypeError: object of type 'NoneType' has no len()\n",
            "\n",
            "During handling of the above exception, another exception occurred:\n",
            "\n",
            "AttributeError: 'TypeError' object has no attribute '_render_traceback_'\n",
            "\n",
            "During handling of the above exception, another exception occurred:\n",
            "\n",
            "AssertionError\n",
            "TypeError: can't convert cuda:0 device type tensor to numpy. Use Tensor.cpu() to copy the tensor to host memory first.\n",
            "\n",
            "During handling of the above exception, another exception occurred:\n",
            "\n",
            "AttributeError: 'TypeError' object has no attribute '_render_traceback_'\n",
            "\n",
            "During handling of the above exception, another exception occurred:\n",
            "\n",
            "TypeError: object of type 'NoneType' has no len()\n",
            "\n",
            "During handling of the above exception, another exception occurred:\n",
            "\n",
            "AttributeError: 'TypeError' object has no attribute '_render_traceback_'\n",
            "\n",
            "During handling of the above exception, another exception occurred:\n",
            "\n",
            "TypeError: object of type 'NoneType' has no len()\n",
            "\n",
            "During handling of the above exception, another exception occurred:\n",
            "\n",
            "AttributeError: 'TypeError' object has no attribute '_render_traceback_'\n",
            "\n",
            "During handling of the above exception, another exception occurred:\n",
            "\n",
            "AssertionError\n"
          ]
        },
        {
          "output_type": "display_data",
          "data": {
            "text/plain": [
              "<Figure size 1000x500 with 2 Axes>"
            ],
            "image/png": "[encoded data removed]"
          },
          "metadata": {}
        }
      ]
    },
    {
      "cell_type": "code",
      "source": [],
      "metadata": {
        "id": "AEwwzRdKGsih"
      },
      "execution_count": null,
      "outputs": []
    }
  ]
}